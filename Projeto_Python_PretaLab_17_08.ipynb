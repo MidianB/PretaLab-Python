{
  "nbformat": 4,
  "nbformat_minor": 0,
  "metadata": {
    "colab": {
      "provenance": [],
      "authorship_tag": "ABX9TyMfb2QZ5sHfjGPWtF5Kxnn4",
      "include_colab_link": true
    },
    "kernelspec": {
      "name": "python3",
      "display_name": "Python 3"
    },
    "language_info": {
      "name": "python"
    }
  },
  "cells": [
    {
      "cell_type": "markdown",
      "metadata": {
        "id": "view-in-github",
        "colab_type": "text"
      },
      "source": [
        "<a href=\"https://colab.research.google.com/github/MidianB/PretaLab-Python/blob/main/Projeto_Python_PretaLab_17_08.ipynb\" target=\"_parent\"><img src=\"https://colab.research.google.com/assets/colab-badge.svg\" alt=\"Open In Colab\"/></a>"
      ]
    },
    {
      "cell_type": "markdown",
      "source": [
        "# Contagem de Medalhas\n",
        "Crie um programa que receba o número de medalhas de ouro, prata e bronze de um país nas Olimpíadas e calcule o total de medalhas. Quando escrever 'sair', o programa deverá encerrar e mostrar na tela o ranking de medalhas no formato:"
      ],
      "metadata": {
        "id": "RQH4KnuH6-4h"
      }
    },
    {
      "cell_type": "code",
      "source": [
        "def inserir_ordenado(ranking, pais, ouro, prata, bronze, total):\n",
        "    inserido = False\n",
        "    for i in range(len(ranking)):\n",
        "        if (ouro > ranking[i][1]) or \\\n",
        "           (ouro == ranking[i][1] and prata > ranking[i][2]) or \\\n",
        "           (ouro == ranking[i][1] and prata == ranking[i][2] and bronze > ranking[i][3]) or \\\n",
        "           (ouro == ranking[i][1] and prata == ranking[i][2] and bronze == ranking[i][3] and total > ranking[i][4]):\n",
        "            ranking.insert(i, (pais, ouro, prata, bronze, total))\n",
        "            inserido = True\n",
        "            break\n",
        "    if not inserido:\n",
        "        ranking.append((pais, ouro, prata, bronze, total))\n",
        "\n",
        "def main():\n",
        "    ranking = []\n",
        "\n",
        "    while True:\n",
        "        pais = input(\"Digite o nome do país (ou 'sair' para encerrar): \")\n",
        "        if pais.lower() == 'sair':\n",
        "            break\n",
        "\n",
        "        ouro = int(input(f\"Digite o número de medalhas de ouro para {pais}: \"))\n",
        "        prata = int(input(f\"Digite o número de medalhas de prata para {pais}: \"))\n",
        "        bronze = int(input(f\"Digite o número de medalhas de bronze para {pais}: \"))\n",
        "        total = ouro + prata + bronze\n",
        "\n",
        "        inserir_ordenado(ranking, pais, ouro, prata, bronze, total)\n",
        "\n",
        "    print(\"\\nRanking de Medalhas:\")\n",
        "    print(\"-\" * 40)\n",
        "    print(\"País\\tOuro\\tPrata\\tBronze\\tTotal\")\n",
        "    print(\"-\" * 40)\n",
        "    for r in ranking:\n",
        "        print(f\"{r[0]}\\t{r[1]}\\t{r[2]}\\t{r[3]}\\t{r[4]}\")\n",
        "\n",
        "if __name__ == \"__main__\":\n",
        "    main()\n"
      ],
      "metadata": {
        "colab": {
          "base_uri": "https://localhost:8080/"
        },
        "id": "224Nn3Ty_dse",
        "outputId": "0cc188ba-60f3-485f-c51a-832f03d55fea"
      },
      "execution_count": 17,
      "outputs": [
        {
          "output_type": "stream",
          "name": "stdout",
          "text": [
            "Digite o nome do país (ou 'sair' para encerrar): China\n",
            "Digite o número de medalhas de ouro para China: 20\n",
            "Digite o número de medalhas de prata para China: 3\n",
            "Digite o número de medalhas de bronze para China: 4\n",
            "Digite o nome do país (ou 'sair' para encerrar): Brasil\n",
            "Digite o número de medalhas de ouro para Brasil: 6\n",
            "Digite o número de medalhas de prata para Brasil: 5\n",
            "Digite o número de medalhas de bronze para Brasil: 4\n",
            "Digite o nome do país (ou 'sair' para encerrar): Chile\n",
            "Digite o número de medalhas de ouro para Chile: 7\n",
            "Digite o número de medalhas de prata para Chile: 6\n",
            "Digite o número de medalhas de bronze para Chile: 5\n",
            "Digite o nome do país (ou 'sair' para encerrar): sair\n",
            "\n",
            "Ranking de Medalhas:\n",
            "----------------------------------------\n",
            "País\tOuro\tPrata\tBronze\tTotal\n",
            "----------------------------------------\n",
            "China\t20\t3\t4\t27\n",
            "Chile\t7\t6\t5\t18\n",
            "Brasil\t6\t5\t4\t15\n"
          ]
        }
      ]
    }
  ]
}